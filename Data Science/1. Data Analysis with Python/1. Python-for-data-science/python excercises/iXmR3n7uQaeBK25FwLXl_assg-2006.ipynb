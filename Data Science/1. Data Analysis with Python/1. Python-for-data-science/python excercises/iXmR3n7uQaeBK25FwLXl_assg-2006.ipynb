import os
import stat
import time

# 1. Get OS name, OS information, current directory, and list files/directories
def os_info():
    print("Operating System:", os.name)
    print("OS Info:", os.uname() if hasattr(os, 'uname') else "Not available on this platform")
    print("Current Working Directory:", os.getcwd())
    try:
        print("Files and directories in the current directory:")
        for item in os.listdir(os.getcwd()):
            print(item)
    except Exception as e:
        print("Error accessing directory:", e)

# 2. List directories, files, and all items in a specified path
def list_files_dirs(path):
    try:
        files = []
        dirs = []
        all_items = os.listdir(path)
        for item in all_items:
            item_path = os.path.join(path, item)
            if os.path.isfile(item_path):
                files.append(item)
            elif os.path.isdir(item_path):
                dirs.append(item)
        print("Files:", files)
        print("Directories:", dirs)
        print("All items:", all_items)
    except Exception as e:
        print("Error accessing path:", e)

# 3. Scan directory for subdirectories and files
def scan_directory(path):
    try:
        dirs = []
        files = []
        for root, directories, filenames in os.walk(path):
            dirs.extend(directories)
            files.extend(filenames)
        print("Subdirectories:", dirs)
        print("Files:", files)
    except Exception as e:
        print("Error accessing path:", e)

# 4. Get size, permissions, owner, device, and date info of a specified path
def file_info(path):
    try:
        stat_info = os.stat(path)
        print("Size:", stat_info.st_size, "bytes")
        print("Permissions:", oct(stat_info.st_mode))
        print("Owner:", stat_info.st_uid)
        print("Group:", stat_info.st_gid)
        print("Device:", stat_info.st_dev)
        print("Created:", time.ctime(stat_info.st_ctime))
        print("Last Modified:", time.ctime(stat_info.st_mtime))
        print("Last Accessed:", time.ctime(stat_info.st_atime))
    except Exception as e:
        print("Error accessing file:", e)

# 5. Create a file, write text, and rename the file
def create_and_rename_file(original_name, new_name, text):
    try:
        with open(original_name, 'w') as file:
            file.write(text)
        os.rename(original_name, new_name)
        print(f"File created and renamed from '{original_name}' to '{new_name}'")
    except Exception as e:
        print("Error creating or renaming file:", e)

# 6. Get current working directory and change it (move up one level)
def change_directory():
    try:
        cwd = os.getcwd()
        print("Current Working Directory:", cwd)
        os.chdir('..')
        print("Moved up one directory to:", os.getcwd())
        os.chdir(cwd)
    except Exception as e:
        print("Error changing directory:", e)

# 7. Access environment variables and their values
def environment_variables():
    print("Environment Variables:")
    for key, value in os.environ.items():
        print(f"{key}: {value}")

# 8. Test if a path exists and find filename and directory portion
def test_path(path):
    if os.path.exists(path):
        print("Path exists.")
        print("Directory Portion:", os.path.dirname(path))
        print("Filename Portion:", os.path.basename(path))
    else:
        print("Path does not exist.")

# 9. Join path components and split a path into directory and file
def path_operations(path):
    joined_path = os.path.join("some", "path", "components")
    print("Joined Path:", joined_path)
    print("Split Path:", os.path.split(path))

# 10. Get file mode information
def file_mode_info(path):
    try:
        stat_info = os.stat(path)
        print("Device ID:", stat_info.st_dev)
        print("Inode Number:", stat_info.st_ino)
        print("Protection:", oct(stat_info.st_mode))
        print("Number of Hard Links:", stat_info.st_nlink)
        print("User ID of Owner:", stat_info.st_uid)
        print("Group ID of Owner:", stat_info.st_gid)
        print("Total Size (bytes):", stat_info.st_size)
        print("Last Access Time:", time.ctime(stat_info.st_atime))
        print("Last Modification Time:", time.ctime(stat_info.st_mtime))
        print("Last Status Change Time:", time.ctime(stat_info.st_ctime))
    except Exception as e:
        print("Error accessing file mode information:", e)

# 11. Read an entire text file
def read_file(file_path):
    try:
        with open(file_path, 'r') as file:
            content = file.read()
        print("File Content:\n", content)
    except Exception as e:
        print("Error reading file:", e)

# 12. Read first n lines of a file
def read_first_n_lines(file_path, n):
    try:
        with open(file_path, 'r') as file:
            lines = [next(file) for _ in range(n)]
        print("First", n, "lines:\n", ''.join(lines))
    except Exception as e:
        print("Error reading file:", e)

# 13. Append text to a file and display it
def append_and_display(file_path, text):
    try:
        with open(file_path, 'a') as file:
            file.write(text)
        read_file(file_path)
    except Exception as e:
        print("Error appending to file:", e)

# 14. Read last n lines of a file
def read_last_n_lines(file_path, n):
    try:
        with open(file_path, 'r') as file:
            lines = file.readlines()
        print("Last", n, "lines:\n", ''.join(lines[-n:]))
    except Exception as e:
        print("Error reading file:", e)

# 15. Read a file line by line and store it in a list
def read_file_to_list(file_path):
    try:
        with open(file_path, 'r') as file:
            lines = file.readlines()
        print("Lines stored in list:\n", lines)
    except Exception as e:
        print("Error reading file:", e)

# 16. Read a file line by line and store it in a variable
def read_file_to_variable(file_path):
    try:
        with open(file_path, 'r') as file:
            content = file.read()
        print("File content stored in variable:\n", content)
    except Exception as e:
        print("Error reading file:", e)

# 17. Read a file line by line and store it in an array
def read_file_to_array(file_path):
    try:
        with open(file_path, 'r') as file:
            array = file.readlines()
        print("Array of file lines:\n", array)
    except Exception as e:
        print("Error reading file:", e)

if __name__ == "__main__":
    # Example usage
    os_info()
    list_files_dirs('.')
    scan_directory('.')
    file_info('sample.txt')
    create_and_rename_file('temp.txt', 'newfile.txt', 'Hello, World!')
    change_directory()
    environment_variables()
    test_path('sample.txt')
    path_operations('sample.txt')
    file_mode_info('sample.txt')
    read_file('sample.txt')
    read_first_n_lines('sample.txt', 3)
    append_and_display('sample.txt', '\nAppended text.')
    read_last_n_lines('sample.txt', 2)
    read_file_to_list('sample.txt')
    read_file_to_variable('sample.txt')
    read_file_to_array('sample.txt')
