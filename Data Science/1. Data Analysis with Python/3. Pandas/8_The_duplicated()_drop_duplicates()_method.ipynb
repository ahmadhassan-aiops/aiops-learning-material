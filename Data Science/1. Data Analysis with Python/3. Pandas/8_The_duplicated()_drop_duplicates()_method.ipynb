{
  "nbformat": 4,
  "nbformat_minor": 0,
  "metadata": {
    "colab": {
      "provenance": []
    },
    "kernelspec": {
      "name": "python3",
      "display_name": "Python 3"
    },
    "language_info": {
      "name": "python"
    }
  },
  "cells": [
    {
      "cell_type": "markdown",
      "source": [
        "- The confusing part in this concept is that it is difficult to know **when we need to use this method** during our analysis!"
      ],
      "metadata": {
        "id": "dpIo0PITZ-QQ"
      }
    },
    {
      "cell_type": "code",
      "execution_count": null,
      "metadata": {
        "colab": {
          "base_uri": "https://localhost:8080/",
          "height": 573
        },
        "id": "w1OyPTvwZFOw",
        "outputId": "dbbf08df-4ba8-4f80-cbca-05b02073f9b3"
      },
      "outputs": [
        {
          "output_type": "execute_result",
          "data": {
            "text/plain": [
              "   Rank               Title                           Website  Employees  \\\n",
              "0     1             Walmart            http://www.walmart.com    2300000   \n",
              "1     2  Berkshire Hathaway  http://www.berkshirehathaway.com     367700   \n",
              "2     3               Apple              http://www.apple.com     116000   \n",
              "3     4         Exxon Mobil         http://www.exxonmobil.com      72700   \n",
              "4     5            McKesson           http://www.mckesson.com      68000   \n",
              "\n",
              "        Sector                                  Industry         Hqlocation  \\\n",
              "0    Retailing                     General Merchandisers    Bentonville, AR   \n",
              "1   Financials  Insurance: Property and Casualty (Stock)          Omaha, NE   \n",
              "2   Technology               Computers, Office Equipment      Cupertino, CA   \n",
              "3       Energy                        Petroleum Refining         Irving, TX   \n",
              "4  Wholesalers                  Wholesalers: Health Care  San Francisco, CA   \n",
              "\n",
              "                   Hqaddr         Hqcity Hqstate  Hqzip         Hqtel  \\\n",
              "0     702 S.W. Eighth St.    Bentonville      AR  72716  479-273-4000   \n",
              "1         3555 Farnam St.          Omaha      NE  68131  402-346-1400   \n",
              "2         1 Infinite Loop      Cupertino      CA  95014  408-996-1010   \n",
              "3  5959 Las Colinas Blvd.         Irving      TX  75039  972-444-1000   \n",
              "4              1 Post St.  San Francisco      CA  94104  415-983-8300   \n",
              "\n",
              "                   Ceo                                      Ceo-title  \\\n",
              "0  C. Douglas McMillon  President, Chief Executive Officer & Director   \n",
              "1    Warren E. Buffett             Chairman & Chief Executive Officer   \n",
              "2      Timothy D. Cook             Chief Executive Officer & Director   \n",
              "3      Darren W. Woods             Chairman & Chief Executive Officer   \n",
              "4   John H. Hammergren  Chairman, President & Chief Executive Officer   \n",
              "\n",
              "                                      Address Ticker                 Fullname  \\\n",
              "0  702 S.W. Eighth St., Bentonville, AR 72716    WMT    Wal-Mart Stores, Inc.   \n",
              "1            3555 Farnam St., Omaha, NE 68131   BRKA  Berkshire Hathaway Inc.   \n",
              "2        1 Infinite Loop, Cupertino, CA 95014   AAPL              Apple, Inc.   \n",
              "3    5959 Las Colinas Blvd., Irving, TX 75039    XOM  Exxon Mobil Corporation   \n",
              "4         1 Post St., San Francisco, CA 94104    MCK     McKesson Corporation   \n",
              "\n",
              "   Revenues  Revchange  Profits Prftchange  Assets  Totshequity  \n",
              "0    485873        0.8  13643.0       -7.2  198825      77798.0  \n",
              "1    223604        6.1  24074.0          0  620854     283001.0  \n",
              "2    215639       -7.7  45687.0      -14.4  321686     128249.0  \n",
              "3    205004      -16.7   7840.0      -51.5  330314     167325.0  \n",
              "4    192487        6.2   2258.0         53   56563       8924.0  "
            ],
            "text/html": [
              "\n",
              "  <div id=\"df-78ff299b-a896-4f3e-b2c3-e962f59ca45a\" class=\"colab-df-container\">\n",
              "    <div>\n",
              "<style scoped>\n",
              "    .dataframe tbody tr th:only-of-type {\n",
              "        vertical-align: middle;\n",
              "    }\n",
              "\n",
              "    .dataframe tbody tr th {\n",
              "        vertical-align: top;\n",
              "    }\n",
              "\n",
              "    .dataframe thead th {\n",
              "        text-align: right;\n",
              "    }\n",
              "</style>\n",
              "<table border=\"1\" class=\"dataframe\">\n",
              "  <thead>\n",
              "    <tr style=\"text-align: right;\">\n",
              "      <th></th>\n",
              "      <th>Rank</th>\n",
              "      <th>Title</th>\n",
              "      <th>Website</th>\n",
              "      <th>Employees</th>\n",
              "      <th>Sector</th>\n",
              "      <th>Industry</th>\n",
              "      <th>Hqlocation</th>\n",
              "      <th>Hqaddr</th>\n",
              "      <th>Hqcity</th>\n",
              "      <th>Hqstate</th>\n",
              "      <th>Hqzip</th>\n",
              "      <th>Hqtel</th>\n",
              "      <th>Ceo</th>\n",
              "      <th>Ceo-title</th>\n",
              "      <th>Address</th>\n",
              "      <th>Ticker</th>\n",
              "      <th>Fullname</th>\n",
              "      <th>Revenues</th>\n",
              "      <th>Revchange</th>\n",
              "      <th>Profits</th>\n",
              "      <th>Prftchange</th>\n",
              "      <th>Assets</th>\n",
              "      <th>Totshequity</th>\n",
              "    </tr>\n",
              "  </thead>\n",
              "  <tbody>\n",
              "    <tr>\n",
              "      <th>0</th>\n",
              "      <td>1</td>\n",
              "      <td>Walmart</td>\n",
              "      <td>http://www.walmart.com</td>\n",
              "      <td>2300000</td>\n",
              "      <td>Retailing</td>\n",
              "      <td>General Merchandisers</td>\n",
              "      <td>Bentonville, AR</td>\n",
              "      <td>702 S.W. Eighth St.</td>\n",
              "      <td>Bentonville</td>\n",
              "      <td>AR</td>\n",
              "      <td>72716</td>\n",
              "      <td>479-273-4000</td>\n",
              "      <td>C. Douglas McMillon</td>\n",
              "      <td>President, Chief Executive Officer &amp; Director</td>\n",
              "      <td>702 S.W. Eighth St., Bentonville, AR 72716</td>\n",
              "      <td>WMT</td>\n",
              "      <td>Wal-Mart Stores, Inc.</td>\n",
              "      <td>485873</td>\n",
              "      <td>0.8</td>\n",
              "      <td>13643.0</td>\n",
              "      <td>-7.2</td>\n",
              "      <td>198825</td>\n",
              "      <td>77798.0</td>\n",
              "    </tr>\n",
              "    <tr>\n",
              "      <th>1</th>\n",
              "      <td>2</td>\n",
              "      <td>Berkshire Hathaway</td>\n",
              "      <td>http://www.berkshirehathaway.com</td>\n",
              "      <td>367700</td>\n",
              "      <td>Financials</td>\n",
              "      <td>Insurance: Property and Casualty (Stock)</td>\n",
              "      <td>Omaha, NE</td>\n",
              "      <td>3555 Farnam St.</td>\n",
              "      <td>Omaha</td>\n",
              "      <td>NE</td>\n",
              "      <td>68131</td>\n",
              "      <td>402-346-1400</td>\n",
              "      <td>Warren E. Buffett</td>\n",
              "      <td>Chairman &amp; Chief Executive Officer</td>\n",
              "      <td>3555 Farnam St., Omaha, NE 68131</td>\n",
              "      <td>BRKA</td>\n",
              "      <td>Berkshire Hathaway Inc.</td>\n",
              "      <td>223604</td>\n",
              "      <td>6.1</td>\n",
              "      <td>24074.0</td>\n",
              "      <td>0</td>\n",
              "      <td>620854</td>\n",
              "      <td>283001.0</td>\n",
              "    </tr>\n",
              "    <tr>\n",
              "      <th>2</th>\n",
              "      <td>3</td>\n",
              "      <td>Apple</td>\n",
              "      <td>http://www.apple.com</td>\n",
              "      <td>116000</td>\n",
              "      <td>Technology</td>\n",
              "      <td>Computers, Office Equipment</td>\n",
              "      <td>Cupertino, CA</td>\n",
              "      <td>1 Infinite Loop</td>\n",
              "      <td>Cupertino</td>\n",
              "      <td>CA</td>\n",
              "      <td>95014</td>\n",
              "      <td>408-996-1010</td>\n",
              "      <td>Timothy D. Cook</td>\n",
              "      <td>Chief Executive Officer &amp; Director</td>\n",
              "      <td>1 Infinite Loop, Cupertino, CA 95014</td>\n",
              "      <td>AAPL</td>\n",
              "      <td>Apple, Inc.</td>\n",
              "      <td>215639</td>\n",
              "      <td>-7.7</td>\n",
              "      <td>45687.0</td>\n",
              "      <td>-14.4</td>\n",
              "      <td>321686</td>\n",
              "      <td>128249.0</td>\n",
              "    </tr>\n",
              "    <tr>\n",
              "      <th>3</th>\n",
              "      <td>4</td>\n",
              "      <td>Exxon Mobil</td>\n",
              "      <td>http://www.exxonmobil.com</td>\n",
              "      <td>72700</td>\n",
              "      <td>Energy</td>\n",
              "      <td>Petroleum Refining</td>\n",
              "      <td>Irving, TX</td>\n",
              "      <td>5959 Las Colinas Blvd.</td>\n",
              "      <td>Irving</td>\n",
              "      <td>TX</td>\n",
              "      <td>75039</td>\n",
              "      <td>972-444-1000</td>\n",
              "      <td>Darren W. Woods</td>\n",
              "      <td>Chairman &amp; Chief Executive Officer</td>\n",
              "      <td>5959 Las Colinas Blvd., Irving, TX 75039</td>\n",
              "      <td>XOM</td>\n",
              "      <td>Exxon Mobil Corporation</td>\n",
              "      <td>205004</td>\n",
              "      <td>-16.7</td>\n",
              "      <td>7840.0</td>\n",
              "      <td>-51.5</td>\n",
              "      <td>330314</td>\n",
              "      <td>167325.0</td>\n",
              "    </tr>\n",
              "    <tr>\n",
              "      <th>4</th>\n",
              "      <td>5</td>\n",
              "      <td>McKesson</td>\n",
              "      <td>http://www.mckesson.com</td>\n",
              "      <td>68000</td>\n",
              "      <td>Wholesalers</td>\n",
              "      <td>Wholesalers: Health Care</td>\n",
              "      <td>San Francisco, CA</td>\n",
              "      <td>1 Post St.</td>\n",
              "      <td>San Francisco</td>\n",
              "      <td>CA</td>\n",
              "      <td>94104</td>\n",
              "      <td>415-983-8300</td>\n",
              "      <td>John H. Hammergren</td>\n",
              "      <td>Chairman, President &amp; Chief Executive Officer</td>\n",
              "      <td>1 Post St., San Francisco, CA 94104</td>\n",
              "      <td>MCK</td>\n",
              "      <td>McKesson Corporation</td>\n",
              "      <td>192487</td>\n",
              "      <td>6.2</td>\n",
              "      <td>2258.0</td>\n",
              "      <td>53</td>\n",
              "      <td>56563</td>\n",
              "      <td>8924.0</td>\n",
              "    </tr>\n",
              "  </tbody>\n",
              "</table>\n",
              "</div>\n",
              "    <div class=\"colab-df-buttons\">\n",
              "\n",
              "  <div class=\"colab-df-container\">\n",
              "    <button class=\"colab-df-convert\" onclick=\"convertToInteractive('df-78ff299b-a896-4f3e-b2c3-e962f59ca45a')\"\n",
              "            title=\"Convert this dataframe to an interactive table.\"\n",
              "            style=\"display:none;\">\n",
              "\n",
              "  <svg xmlns=\"http://www.w3.org/2000/svg\" height=\"24px\" viewBox=\"0 -960 960 960\">\n",
              "    <path d=\"M120-120v-720h720v720H120Zm60-500h600v-160H180v160Zm220 220h160v-160H400v160Zm0 220h160v-160H400v160ZM180-400h160v-160H180v160Zm440 0h160v-160H620v160ZM180-180h160v-160H180v160Zm440 0h160v-160H620v160Z\"/>\n",
              "  </svg>\n",
              "    </button>\n",
              "\n",
              "  <style>\n",
              "    .colab-df-container {\n",
              "      display:flex;\n",
              "      gap: 12px;\n",
              "    }\n",
              "\n",
              "    .colab-df-convert {\n",
              "      background-color: #E8F0FE;\n",
              "      border: none;\n",
              "      border-radius: 50%;\n",
              "      cursor: pointer;\n",
              "      display: none;\n",
              "      fill: #1967D2;\n",
              "      height: 32px;\n",
              "      padding: 0 0 0 0;\n",
              "      width: 32px;\n",
              "    }\n",
              "\n",
              "    .colab-df-convert:hover {\n",
              "      background-color: #E2EBFA;\n",
              "      box-shadow: 0px 1px 2px rgba(60, 64, 67, 0.3), 0px 1px 3px 1px rgba(60, 64, 67, 0.15);\n",
              "      fill: #174EA6;\n",
              "    }\n",
              "\n",
              "    .colab-df-buttons div {\n",
              "      margin-bottom: 4px;\n",
              "    }\n",
              "\n",
              "    [theme=dark] .colab-df-convert {\n",
              "      background-color: #3B4455;\n",
              "      fill: #D2E3FC;\n",
              "    }\n",
              "\n",
              "    [theme=dark] .colab-df-convert:hover {\n",
              "      background-color: #434B5C;\n",
              "      box-shadow: 0px 1px 3px 1px rgba(0, 0, 0, 0.15);\n",
              "      filter: drop-shadow(0px 1px 2px rgba(0, 0, 0, 0.3));\n",
              "      fill: #FFFFFF;\n",
              "    }\n",
              "  </style>\n",
              "\n",
              "    <script>\n",
              "      const buttonEl =\n",
              "        document.querySelector('#df-78ff299b-a896-4f3e-b2c3-e962f59ca45a button.colab-df-convert');\n",
              "      buttonEl.style.display =\n",
              "        google.colab.kernel.accessAllowed ? 'block' : 'none';\n",
              "\n",
              "      async function convertToInteractive(key) {\n",
              "        const element = document.querySelector('#df-78ff299b-a896-4f3e-b2c3-e962f59ca45a');\n",
              "        const dataTable =\n",
              "          await google.colab.kernel.invokeFunction('convertToInteractive',\n",
              "                                                    [key], {});\n",
              "        if (!dataTable) return;\n",
              "\n",
              "        const docLinkHtml = 'Like what you see? Visit the ' +\n",
              "          '<a target=\"_blank\" href=https://colab.research.google.com/notebooks/data_table.ipynb>data table notebook</a>'\n",
              "          + ' to learn more about interactive tables.';\n",
              "        element.innerHTML = '';\n",
              "        dataTable['output_type'] = 'display_data';\n",
              "        await google.colab.output.renderOutput(dataTable, element);\n",
              "        const docLink = document.createElement('div');\n",
              "        docLink.innerHTML = docLinkHtml;\n",
              "        element.appendChild(docLink);\n",
              "      }\n",
              "    </script>\n",
              "  </div>\n",
              "\n",
              "\n",
              "<div id=\"df-03ce16be-b69f-43d8-b18f-2a104c1f3e3d\">\n",
              "  <button class=\"colab-df-quickchart\" onclick=\"quickchart('df-03ce16be-b69f-43d8-b18f-2a104c1f3e3d')\"\n",
              "            title=\"Suggest charts\"\n",
              "            style=\"display:none;\">\n",
              "\n",
              "<svg xmlns=\"http://www.w3.org/2000/svg\" height=\"24px\"viewBox=\"0 0 24 24\"\n",
              "     width=\"24px\">\n",
              "    <g>\n",
              "        <path d=\"M19 3H5c-1.1 0-2 .9-2 2v14c0 1.1.9 2 2 2h14c1.1 0 2-.9 2-2V5c0-1.1-.9-2-2-2zM9 17H7v-7h2v7zm4 0h-2V7h2v10zm4 0h-2v-4h2v4z\"/>\n",
              "    </g>\n",
              "</svg>\n",
              "  </button>\n",
              "\n",
              "<style>\n",
              "  .colab-df-quickchart {\n",
              "      --bg-color: #E8F0FE;\n",
              "      --fill-color: #1967D2;\n",
              "      --hover-bg-color: #E2EBFA;\n",
              "      --hover-fill-color: #174EA6;\n",
              "      --disabled-fill-color: #AAA;\n",
              "      --disabled-bg-color: #DDD;\n",
              "  }\n",
              "\n",
              "  [theme=dark] .colab-df-quickchart {\n",
              "      --bg-color: #3B4455;\n",
              "      --fill-color: #D2E3FC;\n",
              "      --hover-bg-color: #434B5C;\n",
              "      --hover-fill-color: #FFFFFF;\n",
              "      --disabled-bg-color: #3B4455;\n",
              "      --disabled-fill-color: #666;\n",
              "  }\n",
              "\n",
              "  .colab-df-quickchart {\n",
              "    background-color: var(--bg-color);\n",
              "    border: none;\n",
              "    border-radius: 50%;\n",
              "    cursor: pointer;\n",
              "    display: none;\n",
              "    fill: var(--fill-color);\n",
              "    height: 32px;\n",
              "    padding: 0;\n",
              "    width: 32px;\n",
              "  }\n",
              "\n",
              "  .colab-df-quickchart:hover {\n",
              "    background-color: var(--hover-bg-color);\n",
              "    box-shadow: 0 1px 2px rgba(60, 64, 67, 0.3), 0 1px 3px 1px rgba(60, 64, 67, 0.15);\n",
              "    fill: var(--button-hover-fill-color);\n",
              "  }\n",
              "\n",
              "  .colab-df-quickchart-complete:disabled,\n",
              "  .colab-df-quickchart-complete:disabled:hover {\n",
              "    background-color: var(--disabled-bg-color);\n",
              "    fill: var(--disabled-fill-color);\n",
              "    box-shadow: none;\n",
              "  }\n",
              "\n",
              "  .colab-df-spinner {\n",
              "    border: 2px solid var(--fill-color);\n",
              "    border-color: transparent;\n",
              "    border-bottom-color: var(--fill-color);\n",
              "    animation:\n",
              "      spin 1s steps(1) infinite;\n",
              "  }\n",
              "\n",
              "  @keyframes spin {\n",
              "    0% {\n",
              "      border-color: transparent;\n",
              "      border-bottom-color: var(--fill-color);\n",
              "      border-left-color: var(--fill-color);\n",
              "    }\n",
              "    20% {\n",
              "      border-color: transparent;\n",
              "      border-left-color: var(--fill-color);\n",
              "      border-top-color: var(--fill-color);\n",
              "    }\n",
              "    30% {\n",
              "      border-color: transparent;\n",
              "      border-left-color: var(--fill-color);\n",
              "      border-top-color: var(--fill-color);\n",
              "      border-right-color: var(--fill-color);\n",
              "    }\n",
              "    40% {\n",
              "      border-color: transparent;\n",
              "      border-right-color: var(--fill-color);\n",
              "      border-top-color: var(--fill-color);\n",
              "    }\n",
              "    60% {\n",
              "      border-color: transparent;\n",
              "      border-right-color: var(--fill-color);\n",
              "    }\n",
              "    80% {\n",
              "      border-color: transparent;\n",
              "      border-right-color: var(--fill-color);\n",
              "      border-bottom-color: var(--fill-color);\n",
              "    }\n",
              "    90% {\n",
              "      border-color: transparent;\n",
              "      border-bottom-color: var(--fill-color);\n",
              "    }\n",
              "  }\n",
              "</style>\n",
              "\n",
              "  <script>\n",
              "    async function quickchart(key) {\n",
              "      const quickchartButtonEl =\n",
              "        document.querySelector('#' + key + ' button');\n",
              "      quickchartButtonEl.disabled = true;  // To prevent multiple clicks.\n",
              "      quickchartButtonEl.classList.add('colab-df-spinner');\n",
              "      try {\n",
              "        const charts = await google.colab.kernel.invokeFunction(\n",
              "            'suggestCharts', [key], {});\n",
              "      } catch (error) {\n",
              "        console.error('Error during call to suggestCharts:', error);\n",
              "      }\n",
              "      quickchartButtonEl.classList.remove('colab-df-spinner');\n",
              "      quickchartButtonEl.classList.add('colab-df-quickchart-complete');\n",
              "    }\n",
              "    (() => {\n",
              "      let quickchartButtonEl =\n",
              "        document.querySelector('#df-03ce16be-b69f-43d8-b18f-2a104c1f3e3d button');\n",
              "      quickchartButtonEl.style.display =\n",
              "        google.colab.kernel.accessAllowed ? 'block' : 'none';\n",
              "    })();\n",
              "  </script>\n",
              "</div>\n",
              "\n",
              "    </div>\n",
              "  </div>\n"
            ],
            "application/vnd.google.colaboratory.intrinsic+json": {
              "type": "dataframe",
              "variable_name": "data"
            }
          },
          "metadata": {},
          "execution_count": 41
        }
      ],
      "source": [
        "import numpy as np\n",
        "import pandas as pd\n",
        "\n",
        "data=pd.read_csv('/content/drive/MyDrive/Colab Notebooks/CLIENTS/7. Dammy/Pandas/Fortune 500 2017 - Fortune 500.csv')\n",
        "\n",
        "# Set display options to show maximum columns\n",
        "pd.set_option('display.max_columns', None)\n",
        "\n",
        "data.head()"
      ]
    },
    {
      "cell_type": "markdown",
      "source": [
        "\n",
        "\n",
        "---\n",
        "\n",
        "\n",
        "\n",
        "---\n",
        "\n"
      ],
      "metadata": {
        "id": "PucpkiEpexkA"
      }
    },
    {
      "cell_type": "markdown",
      "source": [
        "#Applying duplicated and drop_duplicates function on single and multiple column"
      ],
      "metadata": {
        "id": "JCnLibncUw2A"
      }
    },
    {
      "cell_type": "code",
      "source": [
        "# 1. we are checking duplicated entries on complete dataframe\n",
        "duplicated_rows = data[data.duplicated()]\n",
        "duplicated_rows.shape[0]"
      ],
      "metadata": {
        "colab": {
          "base_uri": "https://localhost:8080/"
        },
        "id": "WPmmV-POCChg",
        "outputId": "2e11e632-331d-42d9-95c9-01193149269a"
      },
      "execution_count": null,
      "outputs": [
        {
          "output_type": "execute_result",
          "data": {
            "text/plain": [
              "0"
            ]
          },
          "metadata": {},
          "execution_count": 42
        }
      ]
    },
    {
      "cell_type": "code",
      "source": [
        "# 2. we are checking duplicated entries on individual sector column\n",
        "duplicated_rows = data[data.duplicated(subset=['Industry'])]\n",
        "duplicated_rows.shape[0]\n"
      ],
      "metadata": {
        "colab": {
          "base_uri": "https://localhost:8080/"
        },
        "id": "3heLZ2g-D2OC",
        "outputId": "de8bb9bd-aae5-487d-b03b-a379f799391d"
      },
      "execution_count": null,
      "outputs": [
        {
          "output_type": "execute_result",
          "data": {
            "text/plain": [
              "427"
            ]
          },
          "metadata": {},
          "execution_count": 43
        }
      ]
    },
    {
      "cell_type": "code",
      "source": [
        "# 3. we are removing duplicated entries on complete dataframe\n",
        "data.drop_duplicates(inplace=True)\n",
        "data.shape[0]"
      ],
      "metadata": {
        "colab": {
          "base_uri": "https://localhost:8080/"
        },
        "id": "AnqugjsjEnOW",
        "outputId": "5c86ae02-53e8-4b08-8ede-e432bd056ccb"
      },
      "execution_count": null,
      "outputs": [
        {
          "output_type": "execute_result",
          "data": {
            "text/plain": [
              "500"
            ]
          },
          "metadata": {},
          "execution_count": 44
        }
      ]
    },
    {
      "cell_type": "code",
      "source": [
        "# 4. we are removing duplicated entries on specific feature\n",
        "unique_industry = data.drop_duplicates(subset=['Industry'])\n",
        "unique_industry.shape[0]"
      ],
      "metadata": {
        "colab": {
          "base_uri": "https://localhost:8080/"
        },
        "id": "Pvdutb9yFJxu",
        "outputId": "70aa0917-e3bb-4647-c4f5-79b025b74c4b"
      },
      "execution_count": null,
      "outputs": [
        {
          "output_type": "execute_result",
          "data": {
            "text/plain": [
              "73"
            ]
          },
          "metadata": {},
          "execution_count": 45
        }
      ]
    },
    {
      "cell_type": "code",
      "source": [
        "# confirmation with unique function\n",
        "data['Industry'].nunique()"
      ],
      "metadata": {
        "colab": {
          "base_uri": "https://localhost:8080/"
        },
        "id": "9JWxyFLUFwIl",
        "outputId": "6359d808-1963-4410-8784-21e99c5f9213"
      },
      "execution_count": null,
      "outputs": [
        {
          "output_type": "execute_result",
          "data": {
            "text/plain": [
              "73"
            ]
          },
          "metadata": {},
          "execution_count": 47
        }
      ]
    },
    {
      "cell_type": "markdown",
      "source": [
        "##Q#1.How many unique Hqstate are represented in the dataset after removing any duplicate entries?\n"
      ],
      "metadata": {
        "id": "hHSRm69Weoyl"
      }
    },
    {
      "cell_type": "code",
      "source": [
        "unique_hq = data.drop_duplicates(subset=['Hqstate'])\n",
        "unique_hq.shape[0]"
      ],
      "metadata": {
        "id": "RSjU8kZSHMFc",
        "colab": {
          "base_uri": "https://localhost:8080/"
        },
        "outputId": "6fb8cbfd-9e9b-4731-fd7f-e5ff456771df"
      },
      "execution_count": null,
      "outputs": [
        {
          "output_type": "execute_result",
          "data": {
            "text/plain": [
              "37"
            ]
          },
          "metadata": {},
          "execution_count": 48
        }
      ]
    },
    {
      "cell_type": "code",
      "source": [
        "data['Hqstate'].nunique()"
      ],
      "metadata": {
        "colab": {
          "base_uri": "https://localhost:8080/"
        },
        "id": "1eh8ayWMJxjI",
        "outputId": "45faeb54-4247-49b7-dd66-ec0804f24746"
      },
      "execution_count": null,
      "outputs": [
        {
          "output_type": "execute_result",
          "data": {
            "text/plain": [
              "37"
            ]
          },
          "metadata": {},
          "execution_count": 49
        }
      ]
    },
    {
      "cell_type": "code",
      "source": [
        "data['Hqstate'].value_counts().shape[0]"
      ],
      "metadata": {
        "colab": {
          "base_uri": "https://localhost:8080/"
        },
        "id": "612iEPy1J47j",
        "outputId": "79d9b56c-4324-4b6b-e462-a5119259e92d"
      },
      "execution_count": null,
      "outputs": [
        {
          "output_type": "execute_result",
          "data": {
            "text/plain": [
              "37"
            ]
          },
          "metadata": {},
          "execution_count": 50
        }
      ]
    },
    {
      "cell_type": "markdown",
      "source": [
        "- Different approaches used but in this scenario preffered one is with nunique function. Mostly we use drop_duplicates function when we have to remove the duplicate entries and make these changes permanent."
      ],
      "metadata": {
        "id": "dgn1ANeUVRu6"
      }
    },
    {
      "cell_type": "markdown",
      "source": [
        "##Q#2.How many unique sectors are represented in the dataset after removing any duplicate entries?"
      ],
      "metadata": {
        "id": "DacS9sSpWkoP"
      }
    },
    {
      "cell_type": "markdown",
      "source": [
        "- Keep parameter will decide which value will be retained either first or last one in the dataframe/column"
      ],
      "metadata": {
        "id": "sL-7wtmhMTg_"
      }
    },
    {
      "cell_type": "code",
      "source": [
        "unique_sectors = data.drop_duplicates(subset=['Sector'],keep='last')\n",
        "unique_sectors.shape[0]"
      ],
      "metadata": {
        "colab": {
          "base_uri": "https://localhost:8080/"
        },
        "id": "7UBTXGAvKqRC",
        "outputId": "13195c1c-03fa-4570-badd-63793d463f35"
      },
      "execution_count": null,
      "outputs": [
        {
          "output_type": "execute_result",
          "data": {
            "text/plain": [
              "21"
            ]
          },
          "metadata": {},
          "execution_count": 56
        }
      ]
    },
    {
      "cell_type": "markdown",
      "source": [
        "##Q#3.Can you provide a list of unique CEOs along with their corresponding companies, after eliminating any duplicate CEO entries?"
      ],
      "metadata": {
        "id": "okfY5z9qerIC"
      }
    },
    {
      "cell_type": "code",
      "source": [
        "unique_ceo = data.drop_duplicates(subset=['Ceo'])\n",
        "unique_ceo.shape[0]"
      ],
      "metadata": {
        "colab": {
          "base_uri": "https://localhost:8080/"
        },
        "id": "89DAUqrgK-36",
        "outputId": "e1c4ad98-0ce6-407b-9cc9-650779f7ff28"
      },
      "execution_count": null,
      "outputs": [
        {
          "output_type": "execute_result",
          "data": {
            "text/plain": [
              "496"
            ]
          },
          "metadata": {},
          "execution_count": 52
        }
      ]
    }
  ]
}